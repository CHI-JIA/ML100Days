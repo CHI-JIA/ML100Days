{
 "cells": [
  {
   "cell_type": "code",
   "execution_count": 1,
   "metadata": {},
   "outputs": [],
   "source": [
    "import numpy as np\n",
    "english_score = np.array([55,89,76,65,48,70])\n",
    "math_score = np.array([60,85,60,68,np.nan,60])\n",
    "chinese_score = np.array([65,90,82,72,66,77])"
   ]
  },
  {
   "cell_type": "code",
   "execution_count": null,
   "metadata": {},
   "outputs": [],
   "source": [
    "#1. 請計算各科成績平均、最大值、最小值、標準差，其中數學缺一筆資料可忽略?"
   ]
  },
  {
   "cell_type": "code",
   "execution_count": 3,
   "metadata": {},
   "outputs": [],
   "source": [
    "english_mean = np.mean(english_score)\n",
    "math_mean = np.nanmean(math_score)\n",
    "chinese_mean = np.mean(chinese_score)"
   ]
  },
  {
   "cell_type": "code",
   "execution_count": 4,
   "metadata": {},
   "outputs": [
    {
     "name": "stdout",
     "output_type": "stream",
     "text": [
      "67.16666666666667\n",
      "66.6\n",
      "75.33333333333333\n"
     ]
    }
   ],
   "source": [
    "print(english_mean)\n",
    "print(math_mean)\n",
    "print(chinese_mean)"
   ]
  },
  {
   "cell_type": "code",
   "execution_count": 6,
   "metadata": {},
   "outputs": [],
   "source": [
    "english_max = np.max(english_score)\n",
    "math_max = np.nanmax(math_score)\n",
    "chinese_max = np.max(chinese_score)\n",
    "english_min = np.min(english_score)\n",
    "math_min = np.nanmin(math_score)\n",
    "chinese_min = np.min(chinese_score)"
   ]
  },
  {
   "cell_type": "code",
   "execution_count": 7,
   "metadata": {},
   "outputs": [
    {
     "name": "stdout",
     "output_type": "stream",
     "text": [
      "89\n",
      "60.0\n",
      "90\n"
     ]
    }
   ],
   "source": [
    "print(english_max)\n",
    "print(math_min)\n",
    "print(chinese_max)"
   ]
  },
  {
   "cell_type": "code",
   "execution_count": 8,
   "metadata": {},
   "outputs": [
    {
     "name": "stdout",
     "output_type": "stream",
     "text": [
      "48\n",
      "60.0\n",
      "65\n"
     ]
    }
   ],
   "source": [
    "print(english_min)\n",
    "print(math_min)\n",
    "print(chinese_min)"
   ]
  },
  {
   "cell_type": "code",
   "execution_count": 9,
   "metadata": {},
   "outputs": [],
   "source": [
    "english_std = np.std(english_score)\n",
    "math_std = np.nanstd(math_score)\n",
    "chinese_std = np.std(chinese_score)"
   ]
  },
  {
   "cell_type": "code",
   "execution_count": 10,
   "metadata": {},
   "outputs": [
    {
     "name": "stdout",
     "output_type": "stream",
     "text": [
      "13.433995020924426\n",
      "9.707728879609279\n",
      "8.825468196582484\n"
     ]
    }
   ],
   "source": [
    "print(english_std)\n",
    "print(math_std)\n",
    "print(chinese_std)"
   ]
  },
  {
   "cell_type": "code",
   "execution_count": null,
   "metadata": {},
   "outputs": [],
   "source": [
    "#2. 第五位同學補考數學後成績為55，請計算補考後數學成績平均、最大值、最小值、標準差?"
   ]
  },
  {
   "cell_type": "code",
   "execution_count": 13,
   "metadata": {},
   "outputs": [],
   "source": [
    "new_math_score = np.array([60,85,60,68,55,60])"
   ]
  },
  {
   "cell_type": "code",
   "execution_count": 14,
   "metadata": {},
   "outputs": [],
   "source": [
    "new_math_mean = np.mean(new_math_score)\n",
    "new_math_max = np.max(new_math_score)\n",
    "new_math_min = np.min(new_math_score)\n",
    "new_math_std = np.std(new_math_score)"
   ]
  },
  {
   "cell_type": "code",
   "execution_count": 15,
   "metadata": {},
   "outputs": [
    {
     "name": "stdout",
     "output_type": "stream",
     "text": [
      "64.66666666666667\n",
      "85\n",
      "55\n",
      "9.860132971832694\n"
     ]
    }
   ],
   "source": [
    "print(new_math_mean)\n",
    "print(new_math_max)\n",
    "print(new_math_min)\n",
    "print(new_math_std)"
   ]
  },
  {
   "cell_type": "code",
   "execution_count": 16,
   "metadata": {},
   "outputs": [],
   "source": [
    "#3. 用補考後資料找出與國文成績相關係數最高的學科?"
   ]
  },
  {
   "cell_type": "code",
   "execution_count": 17,
   "metadata": {},
   "outputs": [],
   "source": [
    "english_chinese = np.correlate(english_score, chinese_score, mode='valid')\n",
    "new_math_chinese = np.correlate(new_math_score, chinese_score, mode='valid')"
   ]
  },
  {
   "cell_type": "code",
   "execution_count": 18,
   "metadata": {},
   "outputs": [
    {
     "name": "stdout",
     "output_type": "stream",
     "text": [
      "[31055]\n",
      "[29616]\n"
     ]
    }
   ],
   "source": [
    "print(english_chinese)\n",
    "print(new_math_chinese)"
   ]
  },
  {
   "cell_type": "code",
   "execution_count": 21,
   "metadata": {},
   "outputs": [
    {
     "name": "stdout",
     "output_type": "stream",
     "text": [
      "與國文成績相關係數最高的學科是英文\n"
     ]
    }
   ],
   "source": [
    "print(\"與國文成績相關係數最高的學科是英文\")"
   ]
  },
  {
   "cell_type": "code",
   "execution_count": null,
   "metadata": {},
   "outputs": [],
   "source": []
  }
 ],
 "metadata": {
  "kernelspec": {
   "display_name": "Python 3",
   "language": "python",
   "name": "python3"
  },
  "language_info": {
   "codemirror_mode": {
    "name": "ipython",
    "version": 3
   },
   "file_extension": ".py",
   "mimetype": "text/x-python",
   "name": "python",
   "nbconvert_exporter": "python",
   "pygments_lexer": "ipython3",
   "version": "3.8.5"
  }
 },
 "nbformat": 4,
 "nbformat_minor": 4
}
